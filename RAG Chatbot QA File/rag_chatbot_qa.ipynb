{
 "cells": [
  {
   "cell_type": "markdown",
   "metadata": {},
   "source": [
    "#### This code will develop a Retrieval Augemented Generation (RAG) based chat bot using LangChain, PineCone and OpenAI with the following salient points\n",
    "- Read the question/answer pairs of a company\n",
    "- Convert each question/answer pair into a separate text chunk\n",
    "- Convert the chunked question/answer pair into embeddings using OpenAI Embeddings\n",
    "- Create an Index in Pinecone and upsert the embedded chunks in the Pinecone vector\n",
    "- Take the query from user, vectorize it and then find the matching text chunk from Pinecone vector store\n",
    "- Include the matching text chunk into the query which is to be sent to LLM to answer the specific question about the user."
   ]
  },
  {
   "cell_type": "code",
   "execution_count": 1,
   "metadata": {},
   "outputs": [
    {
     "name": "stderr",
     "output_type": "stream",
     "text": [
      "/data/mn27889/miniconda3/envs/rag-chatbot/lib/python3.11/site-packages/pinecone/data/index.py:1: TqdmWarning: IProgress not found. Please update jupyter and ipywidgets. See https://ipywidgets.readthedocs.io/en/stable/user_install.html\n",
      "  from tqdm.autonotebook import tqdm\n"
     ]
    }
   ],
   "source": [
    "import json\n",
    "import time\n",
    "import hashlib\n",
    "import pandas as pd\n",
    "from pinecone import Pinecone, ServerlessSpec\n",
    "from langchain_community.document_loaders import TextLoader\n",
    "from langchain_text_splitters import CharacterTextSplitter\n",
    "from langchain_openai import OpenAIEmbeddings, ChatOpenAI\n",
    "from langchain_pinecone import PineconeVectorStore\n",
    "from langchain.chains import RetrievalQA\n",
    "from langchain.chains.conversational_retrieval.base import ConversationalRetrievalChain\n",
    "from langchain.memory import ConversationBufferMemory"
   ]
  },
  {
   "cell_type": "markdown",
   "metadata": {},
   "source": [
    "# Setting the Vector Database into the PineCone"
   ]
  },
  {
   "cell_type": "markdown",
   "metadata": {},
   "source": [
    "#### Reading the API KEYS for OpenAI and Pinecone"
   ]
  },
  {
   "cell_type": "code",
   "execution_count": 2,
   "metadata": {},
   "outputs": [],
   "source": [
    "creds_file = \"../credentials.json\"\n",
    "    \n",
    "with open(creds_file, 'r') as file:\n",
    "    creds_data = json.load(file)\n",
    "    openai_api_key = creds_data['OPENAI_API_KEY']\n",
    "    pinecone_api_key = creds_data['PINECONE_API_KEY']\n",
    "\n",
    "assert openai_api_key != None, \"\"\n",
    "assert pinecone_api_key != None, \"\""
   ]
  },
  {
   "cell_type": "markdown",
   "metadata": {},
   "source": [
    "#### Loading the data from the text file"
   ]
  },
  {
   "cell_type": "code",
   "execution_count": 3,
   "metadata": {},
   "outputs": [],
   "source": [
    "qa_data = pd.read_excel('AI.xlsx')"
   ]
  },
  {
   "cell_type": "code",
   "execution_count": 4,
   "metadata": {},
   "outputs": [],
   "source": [
    "question_list = []\n",
    "answer_list = []\n",
    "answer_combined = \"\"\n",
    "\n",
    "for index, row in qa_data.iterrows():\n",
    "    question = row['QUESTION']\n",
    "    answer = row['RESPONSE']\n",
    "    \n",
    "    if pd.isna(question) == False:\n",
    "        question_list.append(str(question))\n",
    "        answer_list.append(answer_combined)\n",
    "        if str(answer) != \"\":\n",
    "            answer_combined = str(answer)\n",
    "    else:\n",
    "        if str(answer) != \"\":\n",
    "            answer_combined += \" \" + str(answer)\n",
    "    \n",
    "    # Handle the final row\n",
    "    if index == len(qa_data) - 1:\n",
    "        answer_list.append(answer_combined)\n",
    "\n",
    "# Omit the first row in `answer_list` sicne that is needed\n",
    "answer_list = answer_list[1:]"
   ]
  },
  {
   "cell_type": "markdown",
   "metadata": {},
   "source": [
    "#### Dividing the question/answer data into chunks with each chunk representing a question/answer pair"
   ]
  },
  {
   "cell_type": "code",
   "execution_count": 5,
   "metadata": {},
   "outputs": [],
   "source": [
    "chunked_text = []\n",
    "for i in range(len(question_list)):\n",
    "    qa_pair = 'QUESTION: ' + question_list[i] + '\\n' + 'RESPONSE: ' + answer_list[i]\n",
    "    chunked_text.append(qa_pair)"
   ]
  },
  {
   "cell_type": "code",
   "execution_count": 7,
   "metadata": {},
   "outputs": [
    {
     "name": "stdout",
     "output_type": "stream",
     "text": [
      "QUESTION: Do I have acne?\n",
      "RESPONSE: Acne is a common skin condition that affects most people at some stage in their lives. You are most likely to get acne on your face, back, and chest.\n"
     ]
    }
   ],
   "source": [
    "print(chunked_text[0])"
   ]
  },
  {
   "cell_type": "markdown",
   "metadata": {},
   "source": [
    "#### Defining the embeddings model to create the embeddings"
   ]
  },
  {
   "cell_type": "code",
   "execution_count": 8,
   "metadata": {},
   "outputs": [],
   "source": [
    "embed_model = OpenAIEmbeddings(api_key=openai_api_key, model=\"text-embedding-ada-002\")\n",
    "chunked_embeddings = embed_model.embed_documents(chunked_text)"
   ]
  },
  {
   "cell_type": "markdown",
   "metadata": {},
   "source": [
    "### Combine the embeddings and Chunked Text"
   ]
  },
  {
   "cell_type": "code",
   "execution_count": 9,
   "metadata": {},
   "outputs": [],
   "source": [
    "def generate_short_id(content: str) -> str:\n",
    "    \"\"\"\n",
    "    Generate a short ID based on the content using SHA-256 hash.\n",
    "\n",
    "    Args:\n",
    "    - content (str): The content for which the ID is generated.\n",
    "\n",
    "    Returns:\n",
    "    - short_id (str): The generated short ID.\n",
    "    \"\"\"\n",
    "    hash_obj = hashlib.sha256()\n",
    "    hash_obj.update(content.encode(\"utf-8\"))\n",
    "    return hash_obj.hexdigest()"
   ]
  },
  {
   "cell_type": "code",
   "execution_count": 10,
   "metadata": {},
   "outputs": [],
   "source": [
    "data_with_metadata = []\n",
    "\n",
    "for doc_text, embedding in zip(chunked_text, chunked_embeddings):\n",
    "    doc_id = generate_short_id(doc_text)\n",
    "    \n",
    "    data_item = {\n",
    "        \"id\": doc_id,\n",
    "        \"values\": embedding,\n",
    "        \"metadata\": {'text':doc_text} #include the text as metadata\n",
    "    }\n",
    "    \n",
    "    data_with_metadata.append(data_item)"
   ]
  },
  {
   "cell_type": "markdown",
   "metadata": {},
   "source": [
    "#### Creating the PineCone Index"
   ]
  },
  {
   "cell_type": "code",
   "execution_count": 11,
   "metadata": {},
   "outputs": [
    {
     "data": {
      "text/plain": [
       "{'indexes': [{'deletion_protection': 'disabled',\n",
       "              'dimension': 1536,\n",
       "              'host': 'rag-chatbot-description-ott2zv7.svc.aped-4627-b74a.pinecone.io',\n",
       "              'metric': 'dotproduct',\n",
       "              'name': 'rag-chatbot-description',\n",
       "              'spec': {'serverless': {'cloud': 'aws', 'region': 'us-east-1'}},\n",
       "              'status': {'ready': True, 'state': 'Ready'}}]}"
      ]
     },
     "execution_count": 11,
     "metadata": {},
     "output_type": "execute_result"
    }
   ],
   "source": [
    "# configure client\n",
    "pc = Pinecone(api_key=pinecone_api_key)\n",
    "\n",
    "# configure serverless spec\n",
    "spec = ServerlessSpec(cloud='aws', region='us-east-1')\n",
    "\n",
    "pc.list_indexes()"
   ]
  },
  {
   "cell_type": "code",
   "execution_count": 12,
   "metadata": {},
   "outputs": [],
   "source": [
    "# check for and delete index if already exists\n",
    "index_name = 'rag-chatbot-qa'\n",
    "if index_name in pc.list_indexes().names():\n",
    "    pc.delete_index(index_name)\n",
    "\n",
    "# we create a new index\n",
    "pc.create_index(\n",
    "        index_name,\n",
    "        dimension=1536,  # dimensionality of text-embedding-ada-002\n",
    "        metric='dotproduct',\n",
    "        spec=spec\n",
    "    )\n",
    "\n",
    "# Wait until the index is ready\n",
    "while not pc.describe_index(index_name).status['ready']:\n",
    "    time.sleep(1) "
   ]
  },
  {
   "cell_type": "markdown",
   "metadata": {},
   "source": [
    "#### Connecting to Index and Upserting our knowledgebase"
   ]
  },
  {
   "cell_type": "code",
   "execution_count": 13,
   "metadata": {},
   "outputs": [
    {
     "data": {
      "text/plain": [
       "{'dimension': 1536,\n",
       " 'index_fullness': 0.0,\n",
       " 'namespaces': {},\n",
       " 'total_vector_count': 0}"
      ]
     },
     "execution_count": 13,
     "metadata": {},
     "output_type": "execute_result"
    }
   ],
   "source": [
    "# Connect to index\n",
    "index = pc.Index(index_name)\n",
    "time.sleep(1)\n",
    "index.describe_index_stats()"
   ]
  },
  {
   "cell_type": "markdown",
   "metadata": {},
   "source": [
    "Upserting our dataset into the Pinecone index"
   ]
  },
  {
   "cell_type": "code",
   "execution_count": 14,
   "metadata": {},
   "outputs": [
    {
     "data": {
      "text/plain": [
       "{'upserted_count': 143}"
      ]
     },
     "execution_count": 14,
     "metadata": {},
     "output_type": "execute_result"
    }
   ],
   "source": [
    "index.upsert(vectors=data_with_metadata)"
   ]
  },
  {
   "cell_type": "code",
   "execution_count": 17,
   "metadata": {},
   "outputs": [
    {
     "data": {
      "text/plain": [
       "{'dimension': 1536,\n",
       " 'index_fullness': 0.0,\n",
       " 'namespaces': {'': {'vector_count': 143}},\n",
       " 'total_vector_count': 143}"
      ]
     },
     "execution_count": 17,
     "metadata": {},
     "output_type": "execute_result"
    }
   ],
   "source": [
    "index.describe_index_stats()"
   ]
  },
  {
   "cell_type": "markdown",
   "metadata": {},
   "source": [
    "# Answering queries using information present in the database"
   ]
  },
  {
   "cell_type": "code",
   "execution_count": 18,
   "metadata": {},
   "outputs": [],
   "source": [
    "text_field = \"text\" # it represents the field with which the source text is present in the pinecone index\n",
    "vectorstore = PineconeVectorStore(index, embed_model, text_field)"
   ]
  },
  {
   "cell_type": "code",
   "execution_count": 22,
   "metadata": {},
   "outputs": [
    {
     "data": {
      "text/plain": [
       "[Document(page_content='QUESTION: how do I know if I am having an allergic reaction?\\nRESPONSE: Allergic reactions usually happen within a few minutes of exposure to an allergen. They can cause: sneezing a runny or blocked nose red, itchy, watery eyes wheezing and coughing a red, itchy rash worsening of asthma or eczema symptoms Most allergic reactions are mild. Occasionally a severe reaction called anaphylaxis or anaphylactic shock can happen. This is a medical emergency and needs urgent treatment.'),\n",
       " Document(page_content=\"QUESTION: What are the sign for allergic rhinitis?  \\nRESPONSE: Allergic rhinitis causes cold-like symptoms. These include sneezing, itchiness and a blocked or runny nose. Symptoms usually start soon after you're exposed to an allergen. Some people only get allergic rhinitis for a few months at a time. This is because they're sensitive to seasonal allergens, such as tree or grass pollen. Other people get allergic rhinitis all year round.\"),\n",
       " Document(page_content=\"QUESTION: How do I know if I am allergic to something?\\nRESPONSE: An allergy is a reaction the body has to a substance. Allergies are very common. They affect more than 1 in 4 people in Europe at some point in their lives. They're particularly common in children. Some allergies go away as a child gets older. Many are lifelong. Adults can develop allergies to things they were not allergic to before. Having an allergy can be a nuisance and affect your everyday activities. Most allergic reactions are mild and can be kept under control. Severe reactions can occur, but these are rare\")]"
      ]
     },
     "execution_count": 22,
     "metadata": {},
     "output_type": "execute_result"
    }
   ],
   "source": [
    "# query = \"Tell me symptoms about allergic reaction?\"\n",
    "# vectorstore.similarity_search(query, k=3)"
   ]
  },
  {
   "cell_type": "code",
   "execution_count": 23,
   "metadata": {},
   "outputs": [],
   "source": [
    "# completion llm\n",
    "llm = ChatOpenAI(\n",
    "    openai_api_key=openai_api_key,\n",
    "    model_name='gpt-3.5-turbo',\n",
    "    temperature=0.0\n",
    ")"
   ]
  },
  {
   "cell_type": "markdown",
   "metadata": {},
   "source": [
    "To only answer the question to each query directly without remembring the past information, use `RetrievalQA.from_chain_type`"
   ]
  },
  {
   "cell_type": "code",
   "execution_count": 24,
   "metadata": {},
   "outputs": [
    {
     "name": "stderr",
     "output_type": "stream",
     "text": [
      "/data/mn27889/miniconda3/envs/rag-chatbot/lib/python3.11/site-packages/langchain_core/_api/deprecation.py:139: LangChainDeprecationWarning: The method `Chain.run` was deprecated in langchain 0.1.0 and will be removed in 0.3.0. Use invoke instead.\n",
      "  warn_deprecated(\n"
     ]
    },
    {
     "name": "stdout",
     "output_type": "stream",
     "text": [
      "An allergy is a reaction the body has to a substance. Allergies are very common and can affect more than 1 in 4 people in Europe at some point in their lives. They can be caused by various allergens like pollen, dust, certain foods, insect bites, and more. Allergic reactions can range from mild symptoms like sneezing and itching to severe reactions like anaphylaxis, which is a medical emergency.\n"
     ]
    }
   ],
   "source": [
    "qa = RetrievalQA.from_chain_type(\n",
    "    llm=llm,\n",
    "    chain_type=\"stuff\",\n",
    "    retriever=vectorstore.as_retriever()\n",
    ")\n",
    "\n",
    "query = \"Tell me something about allergy?\"\n",
    "print(qa.run(query))"
   ]
  },
  {
   "cell_type": "markdown",
   "metadata": {},
   "source": [
    "To remember the information about the past conversation between the user and the robot, implement `ConversationalRetrievalChain.from_llm` with `chat_history` as the memory buffer. Please remember to use this if it is required since this will lead to more usage of tokens"
   ]
  },
  {
   "cell_type": "code",
   "execution_count": 25,
   "metadata": {},
   "outputs": [],
   "source": [
    "memory = ConversationBufferMemory(memory_key='chat_history', return_messages=True)\n",
    "\n",
    "conversation_chain = ConversationalRetrievalChain.from_llm(\n",
    "    llm=llm,\n",
    "    chain_type=\"stuff\",\n",
    "    retriever=vectorstore.as_retriever(),\n",
    "    memory=memory\n",
    ")"
   ]
  },
  {
   "cell_type": "code",
   "execution_count": 27,
   "metadata": {},
   "outputs": [
    {
     "name": "stdout",
     "output_type": "stream",
     "text": [
      "Bird flu is a type of flu infection that spreads among birds, also known as avian influenza. It is rare for bird flu to spread to humans, and cases of bird flu in people are very rare. The main way to get bird flu is through close contact with infected birds, such as touching them or their droppings. Symptoms in birds may include sudden death, swollen head, closed and runny eyes, loss of appetite, difficulty breathing, diarrhea, and fewer eggs laid. Treatment for bird flu involves staying at home or being treated in the hospital, where antiviral medicines may be given to reduce the severity of the condition and prevent complications. To reduce the risk of bird flu, it is important to wash hands frequently, cook meat thoroughly, avoid contact with live birds, and not consume raw poultry or eggs.\n"
     ]
    }
   ],
   "source": [
    "query = \"Can you tell me about Bird Flu?\"\n",
    "answer = conversation_chain.run(query)\n",
    "print(answer)"
   ]
  },
  {
   "cell_type": "code",
   "execution_count": 28,
   "metadata": {},
   "outputs": [
    {
     "name": "stdout",
     "output_type": "stream",
     "text": [
      "The main signs that a bird may have bird flu include sudden death, swollen head, closed and runny eyes, loss of appetite, difficulty breathing, diarrhea, fewer eggs laid, or eggs with watery whites. \n",
      "\n",
      "As for treatment, in birds, there are no specific treatments for bird flu. Infected birds are usually culled to prevent the spread of the virus to other birds or humans. It is important to report any suspected cases of bird flu to the relevant authorities for proper management and control.\n"
     ]
    }
   ],
   "source": [
    "query = \"Please tell me more about this disease\"\n",
    "answer = conversation_chain.run(query)\n",
    "print(answer)"
   ]
  },
  {
   "cell_type": "code",
   "execution_count": null,
   "metadata": {},
   "outputs": [],
   "source": []
  }
 ],
 "metadata": {
  "kernelspec": {
   "display_name": "rag-chatbot",
   "language": "python",
   "name": "python3"
  },
  "language_info": {
   "codemirror_mode": {
    "name": "ipython",
    "version": 3
   },
   "file_extension": ".py",
   "mimetype": "text/x-python",
   "name": "python",
   "nbconvert_exporter": "python",
   "pygments_lexer": "ipython3",
   "version": "3.11.9"
  }
 },
 "nbformat": 4,
 "nbformat_minor": 2
}
